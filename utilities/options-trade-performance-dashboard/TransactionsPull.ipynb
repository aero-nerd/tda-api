{
 "cells": [
  {
   "cell_type": "code",
   "execution_count": 1,
   "metadata": {},
   "outputs": [],
   "source": [
    "import datetime\n",
    "import dateutil\n",
    "import tda\n",
    "import atexit\n",
    "import pandas as pd\n",
    "import requests #Useful when troubleshooting lack of data"
   ]
  },
  {
   "cell_type": "code",
   "execution_count": 3,
   "metadata": {},
   "outputs": [],
   "source": [
    "#Pull this information from your tda-api setup\n",
    "API_KEY = '<>@AMER.OAUTHAP'\n",
    "REDIRECT_URI = 'https://X.X.X.X'\n",
    "TOKEN_PATH = '<>'"
   ]
  },
  {
   "cell_type": "code",
   "execution_count": 4,
   "metadata": {},
   "outputs": [],
   "source": [
    "#Initialize webdriver (assumes Chrome and macOS)\n",
    "def make_webdriver():\n",
    "    # Import selenium here because it's slow to import\n",
    "    from selenium import webdriver\n",
    "    \n",
    "    options = webdriver.ChromeOptions()\n",
    "    driver = webdriver.Chrome(options=options, executable_path=r'/usr/local/Caskroom/chromedriver/83.0.4103.39/chromedriver') #you will need to update the path to chromedriver\n",
    "    atexit.register(lambda: driver.quit())\n",
    "    return driver"
   ]
  },
  {
   "cell_type": "code",
   "execution_count": null,
   "metadata": {},
   "outputs": [],
   "source": [
    "# Create a new client\n",
    "client = tda.auth.easy_client(API_KEY,REDIRECT_URI,TOKEN_PATH,make_webdriver)"
   ]
  },
  {
   "cell_type": "code",
   "execution_count": null,
   "metadata": {},
   "outputs": [],
   "source": [
    "account_id='' #Get the accountID in interest from TOS or TDA website"
   ]
  },
  {
   "cell_type": "markdown",
   "metadata": {},
   "source": [
    "chromedriver"
   ]
  },
  {
   "cell_type": "code",
   "execution_count": 8,
   "metadata": {},
   "outputs": [],
   "source": [
    "transaction_type=client.Transactions.TransactionType.TRADE\n",
    "transactions = client.get_transactions(account_id, transaction_type=transaction_type, symbol=None, start_date=None, end_date=None) #this pulls data without dates prescribed. You can add dates as well to limit your dashboard data\n",
    "transactions_data=pd.json_normalize(transactions.json())"
   ]
  },
  {
   "cell_type": "code",
   "execution_count": 9,
   "metadata": {},
   "outputs": [],
   "source": [
    "transactions_data['transactionItem.instrument.optionExpirationDate']=pd.to_datetime(transactions_data['transactionItem.instrument.optionExpirationDate'], infer_datetime_format=True)\n",
    "transactions_data['settlementDate']=pd.to_datetime(transactions_data.settlementDate, infer_datetime_format=True)\n",
    "transactions_data['transactionDate']=pd.to_datetime(transactions_data.transactionDate, infer_datetime_format=True)\n",
    "transactions_data['orderDate']=pd.to_datetime(transactions_data.orderDate, infer_datetime_format=True)\n",
    "transactions_data['transactionItem.instrument.daysToExpiration']=transactions_data['transactionItem.instrument.optionExpirationDate']-transactions_data['transactionDate']\n",
    "transactions_data['transactionItem.instrument.daysToExpiration']=transactions_data['transactionItem.instrument.daysToExpiration'].dt.days\n",
    "transactions_data['fees.totalFee']=transactions_data[['fees.rFee', 'fees.additionalFee', 'fees.cdscFee', 'fees.regFee', 'fees.otherCharges', 'fees.commission', 'fees.optRegFee', 'fees.secFee']].sum(axis=1)"
   ]
  },
  {
   "cell_type": "code",
   "execution_count": 10,
   "metadata": {},
   "outputs": [],
   "source": [
    "transactions_data.to_pickle('transactions_data_'+account_id)"
   ]
  },
  {
   "cell_type": "code",
   "execution_count": 14,
   "metadata": {},
   "outputs": [
    {
     "output_type": "execute_result",
     "data": {
      "text/plain": "      type subAccount settlementDate        orderId  netAmount  \\\n0    TRADE          2     2020-08-10    T3163687655    -360.67   \n1    TRADE          2     2020-08-07    T3153283181     161.00   \n2    TRADE          2     2020-07-27  T3108420608.1    -142.67   \n3    TRADE          2     2020-07-27    T3108420608     178.33   \n4    TRADE          2     2020-07-27    T3108367436     177.33   \n..     ...        ...            ...            ...        ...   \n98   TRADE          2     2019-08-15    T2251958638    -390.77   \n99   TRADE          2     2019-08-14    T2250304159    -230.77   \n100  TRADE          2     2019-08-14    T2256815417    -520.77   \n101  TRADE          2     2019-08-14    T2256813552    -280.77   \n102  TRADE          2     2019-08-14    T2256813578    -430.77   \n\n        transactionDate           orderDate transactionSubType  transactionId  \\\n0   2020-08-07 13:32:28 2020-08-07 04:36:18                 BY    28085169359   \n1   2020-08-05 16:06:46 2020-08-05 13:59:26                 SL    28029535438   \n2   2020-07-24 17:51:45 2020-07-24 17:51:45                 BY    27797743783   \n3   2020-07-24 17:51:45 2020-07-24 17:51:45                 SL    27797743801   \n4   2020-07-24 17:45:56 2020-07-24 17:45:56                 SL    27797671802   \n..                  ...                 ...                ...            ...   \n98  2019-08-14 16:22:23 2019-08-08 01:38:57                 BY    23058713097   \n99  2019-08-13 14:19:40 2019-08-07 02:53:10                 BY    23049506603   \n100 2019-08-13 14:01:24 2019-08-13 01:29:34                 BY    23049359143   \n101 2019-08-13 13:40:37 2019-08-13 01:25:23                 BY    23049052052   \n102 2019-08-13 13:37:20 2019-08-13 01:26:55                 BY    23049020175   \n\n     cashBalanceEffectFlag  ... transactionItem.positionEffect  \\\n0                     True  ...                        OPENING   \n1                     True  ...                            NaN   \n2                     True  ...                        CLOSING   \n3                     True  ...                        OPENING   \n4                     True  ...                        OPENING   \n..                     ...  ...                            ...   \n98                    True  ...                        OPENING   \n99                    True  ...                        OPENING   \n100                   True  ...                        OPENING   \n101                   True  ...                        OPENING   \n102                   True  ...                        OPENING   \n\n     transactionItem.instrument.symbol  \\\n0                       MDLZ_011521C55   \n1                                   HL   \n2                          HL_031921C5   \n3                        HL_012122C5.5   \n4                        HL_012122C5.5   \n..                                 ...   \n98                       CCL_011720P45   \n99                       NFG_011720P45   \n100                     PZZA_011720P45   \n101                      PPC_122019C29   \n102                     ARWR_122019C29   \n\n     transactionItem.instrument.underlyingSymbol  \\\n0                                           MDLZ   \n1                                            NaN   \n2                                             HL   \n3                                             HL   \n4                                             HL   \n..                                           ...   \n98                                           CCL   \n99                                           NFG   \n100                                         PZZA   \n101                                          PPC   \n102                                         ARWR   \n\n     transactionItem.instrument.optionExpirationDate  \\\n0                                2021-01-15 06:00:00   \n1                                                NaT   \n2                                2021-03-19 05:00:00   \n3                                2022-01-21 06:00:00   \n4                                2022-01-21 06:00:00   \n..                                               ...   \n98                               2020-01-17 06:00:00   \n99                               2020-01-17 06:00:00   \n100                              2020-01-17 06:00:00   \n101                              2019-12-20 06:00:00   \n102                              2019-12-20 06:00:00   \n\n     transactionItem.instrument.putCall  transactionItem.instrument.cusip  \\\n0                                  CALL                  0MDLZ.AF10055000   \n1                                   NaN                         422704106   \n2                                  CALL                  0HL...CJ10005000   \n3                                  CALL                  0HL...AL20005500   \n4                                  CALL                  0HL...AL20005500   \n..                                  ...                               ...   \n98                                  PUT                  0CCL..MH00045000   \n99                                  PUT                  0NFG..MH00045000   \n100                                 PUT                  0PZZA.MH00045000   \n101                                CALL                  0PPC..LK90029000   \n102                                CALL                  0ARWR.LK90029000   \n\n     transactionItem.instrument.description  \\\n0                MDLZ Jan 15 2021 55.0 Call   \n1                                       NaN   \n2                   HL Mar 19 2021 5.0 Call   \n3                   HL Jan 21 2022 5.5 Call   \n4                   HL Jan 21 2022 5.5 Call   \n..                                      ...   \n98                 CCL Jan 17 2020 45.0 Put   \n99                 NFG Jan 17 2020 45.0 Put   \n100               PZZA Jan 17 2020 45.0 Put   \n101               PPC Dec 20 2019 29.0 Call   \n102              ARWR Dec 20 2019 29.0 Call   \n\n     transactionItem.instrument.assetType  \\\n0                                  OPTION   \n1                                  EQUITY   \n2                                  OPTION   \n3                                  OPTION   \n4                                  OPTION   \n..                                    ...   \n98                                 OPTION   \n99                                 OPTION   \n100                                OPTION   \n101                                OPTION   \n102                                OPTION   \n\n     transactionItem.instrument.daysToExpiration  fees.totalFee  \n0                                          160.0           0.69  \n1                                            NaN           0.00  \n2                                          237.0           0.69  \n3                                          545.0           0.69  \n4                                          545.0           0.69  \n..                                           ...            ...  \n98                                         155.0           0.79  \n99                                         156.0           0.79  \n100                                        156.0           0.79  \n101                                        128.0           0.79  \n102                                        128.0           0.79  \n\n[103 rows x 34 columns]",
      "text/html": "<div>\n<style scoped>\n    .dataframe tbody tr th:only-of-type {\n        vertical-align: middle;\n    }\n\n    .dataframe tbody tr th {\n        vertical-align: top;\n    }\n\n    .dataframe thead th {\n        text-align: right;\n    }\n</style>\n<table border=\"1\" class=\"dataframe\">\n  <thead>\n    <tr style=\"text-align: right;\">\n      <th></th>\n      <th>type</th>\n      <th>subAccount</th>\n      <th>settlementDate</th>\n      <th>orderId</th>\n      <th>netAmount</th>\n      <th>transactionDate</th>\n      <th>orderDate</th>\n      <th>transactionSubType</th>\n      <th>transactionId</th>\n      <th>cashBalanceEffectFlag</th>\n      <th>...</th>\n      <th>transactionItem.positionEffect</th>\n      <th>transactionItem.instrument.symbol</th>\n      <th>transactionItem.instrument.underlyingSymbol</th>\n      <th>transactionItem.instrument.optionExpirationDate</th>\n      <th>transactionItem.instrument.putCall</th>\n      <th>transactionItem.instrument.cusip</th>\n      <th>transactionItem.instrument.description</th>\n      <th>transactionItem.instrument.assetType</th>\n      <th>transactionItem.instrument.daysToExpiration</th>\n      <th>fees.totalFee</th>\n    </tr>\n  </thead>\n  <tbody>\n    <tr>\n      <th>0</th>\n      <td>TRADE</td>\n      <td>2</td>\n      <td>2020-08-10</td>\n      <td>T3163687655</td>\n      <td>-360.67</td>\n      <td>2020-08-07 13:32:28</td>\n      <td>2020-08-07 04:36:18</td>\n      <td>BY</td>\n      <td>28085169359</td>\n      <td>True</td>\n      <td>...</td>\n      <td>OPENING</td>\n      <td>MDLZ_011521C55</td>\n      <td>MDLZ</td>\n      <td>2021-01-15 06:00:00</td>\n      <td>CALL</td>\n      <td>0MDLZ.AF10055000</td>\n      <td>MDLZ Jan 15 2021 55.0 Call</td>\n      <td>OPTION</td>\n      <td>160.0</td>\n      <td>0.69</td>\n    </tr>\n    <tr>\n      <th>1</th>\n      <td>TRADE</td>\n      <td>2</td>\n      <td>2020-08-07</td>\n      <td>T3153283181</td>\n      <td>161.00</td>\n      <td>2020-08-05 16:06:46</td>\n      <td>2020-08-05 13:59:26</td>\n      <td>SL</td>\n      <td>28029535438</td>\n      <td>True</td>\n      <td>...</td>\n      <td>NaN</td>\n      <td>HL</td>\n      <td>NaN</td>\n      <td>NaT</td>\n      <td>NaN</td>\n      <td>422704106</td>\n      <td>NaN</td>\n      <td>EQUITY</td>\n      <td>NaN</td>\n      <td>0.00</td>\n    </tr>\n    <tr>\n      <th>2</th>\n      <td>TRADE</td>\n      <td>2</td>\n      <td>2020-07-27</td>\n      <td>T3108420608.1</td>\n      <td>-142.67</td>\n      <td>2020-07-24 17:51:45</td>\n      <td>2020-07-24 17:51:45</td>\n      <td>BY</td>\n      <td>27797743783</td>\n      <td>True</td>\n      <td>...</td>\n      <td>CLOSING</td>\n      <td>HL_031921C5</td>\n      <td>HL</td>\n      <td>2021-03-19 05:00:00</td>\n      <td>CALL</td>\n      <td>0HL...CJ10005000</td>\n      <td>HL Mar 19 2021 5.0 Call</td>\n      <td>OPTION</td>\n      <td>237.0</td>\n      <td>0.69</td>\n    </tr>\n    <tr>\n      <th>3</th>\n      <td>TRADE</td>\n      <td>2</td>\n      <td>2020-07-27</td>\n      <td>T3108420608</td>\n      <td>178.33</td>\n      <td>2020-07-24 17:51:45</td>\n      <td>2020-07-24 17:51:45</td>\n      <td>SL</td>\n      <td>27797743801</td>\n      <td>True</td>\n      <td>...</td>\n      <td>OPENING</td>\n      <td>HL_012122C5.5</td>\n      <td>HL</td>\n      <td>2022-01-21 06:00:00</td>\n      <td>CALL</td>\n      <td>0HL...AL20005500</td>\n      <td>HL Jan 21 2022 5.5 Call</td>\n      <td>OPTION</td>\n      <td>545.0</td>\n      <td>0.69</td>\n    </tr>\n    <tr>\n      <th>4</th>\n      <td>TRADE</td>\n      <td>2</td>\n      <td>2020-07-27</td>\n      <td>T3108367436</td>\n      <td>177.33</td>\n      <td>2020-07-24 17:45:56</td>\n      <td>2020-07-24 17:45:56</td>\n      <td>SL</td>\n      <td>27797671802</td>\n      <td>True</td>\n      <td>...</td>\n      <td>OPENING</td>\n      <td>HL_012122C5.5</td>\n      <td>HL</td>\n      <td>2022-01-21 06:00:00</td>\n      <td>CALL</td>\n      <td>0HL...AL20005500</td>\n      <td>HL Jan 21 2022 5.5 Call</td>\n      <td>OPTION</td>\n      <td>545.0</td>\n      <td>0.69</td>\n    </tr>\n    <tr>\n      <th>...</th>\n      <td>...</td>\n      <td>...</td>\n      <td>...</td>\n      <td>...</td>\n      <td>...</td>\n      <td>...</td>\n      <td>...</td>\n      <td>...</td>\n      <td>...</td>\n      <td>...</td>\n      <td>...</td>\n      <td>...</td>\n      <td>...</td>\n      <td>...</td>\n      <td>...</td>\n      <td>...</td>\n      <td>...</td>\n      <td>...</td>\n      <td>...</td>\n      <td>...</td>\n      <td>...</td>\n    </tr>\n    <tr>\n      <th>98</th>\n      <td>TRADE</td>\n      <td>2</td>\n      <td>2019-08-15</td>\n      <td>T2251958638</td>\n      <td>-390.77</td>\n      <td>2019-08-14 16:22:23</td>\n      <td>2019-08-08 01:38:57</td>\n      <td>BY</td>\n      <td>23058713097</td>\n      <td>True</td>\n      <td>...</td>\n      <td>OPENING</td>\n      <td>CCL_011720P45</td>\n      <td>CCL</td>\n      <td>2020-01-17 06:00:00</td>\n      <td>PUT</td>\n      <td>0CCL..MH00045000</td>\n      <td>CCL Jan 17 2020 45.0 Put</td>\n      <td>OPTION</td>\n      <td>155.0</td>\n      <td>0.79</td>\n    </tr>\n    <tr>\n      <th>99</th>\n      <td>TRADE</td>\n      <td>2</td>\n      <td>2019-08-14</td>\n      <td>T2250304159</td>\n      <td>-230.77</td>\n      <td>2019-08-13 14:19:40</td>\n      <td>2019-08-07 02:53:10</td>\n      <td>BY</td>\n      <td>23049506603</td>\n      <td>True</td>\n      <td>...</td>\n      <td>OPENING</td>\n      <td>NFG_011720P45</td>\n      <td>NFG</td>\n      <td>2020-01-17 06:00:00</td>\n      <td>PUT</td>\n      <td>0NFG..MH00045000</td>\n      <td>NFG Jan 17 2020 45.0 Put</td>\n      <td>OPTION</td>\n      <td>156.0</td>\n      <td>0.79</td>\n    </tr>\n    <tr>\n      <th>100</th>\n      <td>TRADE</td>\n      <td>2</td>\n      <td>2019-08-14</td>\n      <td>T2256815417</td>\n      <td>-520.77</td>\n      <td>2019-08-13 14:01:24</td>\n      <td>2019-08-13 01:29:34</td>\n      <td>BY</td>\n      <td>23049359143</td>\n      <td>True</td>\n      <td>...</td>\n      <td>OPENING</td>\n      <td>PZZA_011720P45</td>\n      <td>PZZA</td>\n      <td>2020-01-17 06:00:00</td>\n      <td>PUT</td>\n      <td>0PZZA.MH00045000</td>\n      <td>PZZA Jan 17 2020 45.0 Put</td>\n      <td>OPTION</td>\n      <td>156.0</td>\n      <td>0.79</td>\n    </tr>\n    <tr>\n      <th>101</th>\n      <td>TRADE</td>\n      <td>2</td>\n      <td>2019-08-14</td>\n      <td>T2256813552</td>\n      <td>-280.77</td>\n      <td>2019-08-13 13:40:37</td>\n      <td>2019-08-13 01:25:23</td>\n      <td>BY</td>\n      <td>23049052052</td>\n      <td>True</td>\n      <td>...</td>\n      <td>OPENING</td>\n      <td>PPC_122019C29</td>\n      <td>PPC</td>\n      <td>2019-12-20 06:00:00</td>\n      <td>CALL</td>\n      <td>0PPC..LK90029000</td>\n      <td>PPC Dec 20 2019 29.0 Call</td>\n      <td>OPTION</td>\n      <td>128.0</td>\n      <td>0.79</td>\n    </tr>\n    <tr>\n      <th>102</th>\n      <td>TRADE</td>\n      <td>2</td>\n      <td>2019-08-14</td>\n      <td>T2256813578</td>\n      <td>-430.77</td>\n      <td>2019-08-13 13:37:20</td>\n      <td>2019-08-13 01:26:55</td>\n      <td>BY</td>\n      <td>23049020175</td>\n      <td>True</td>\n      <td>...</td>\n      <td>OPENING</td>\n      <td>ARWR_122019C29</td>\n      <td>ARWR</td>\n      <td>2019-12-20 06:00:00</td>\n      <td>CALL</td>\n      <td>0ARWR.LK90029000</td>\n      <td>ARWR Dec 20 2019 29.0 Call</td>\n      <td>OPTION</td>\n      <td>128.0</td>\n      <td>0.79</td>\n    </tr>\n  </tbody>\n</table>\n<p>103 rows × 34 columns</p>\n</div>"
     },
     "metadata": {},
     "execution_count": 14
    }
   ],
   "source": [
    "transactions_data #visualize the data to confirm the data looks right"
   ]
  }
 ],
 "metadata": {
  "kernelspec": {
   "display_name": "Python 3",
   "language": "python",
   "name": "python3"
  },
  "language_info": {
   "codemirror_mode": {
    "name": "ipython",
    "version": 3
   },
   "file_extension": ".py",
   "mimetype": "text/x-python",
   "name": "python",
   "nbconvert_exporter": "python",
   "pygments_lexer": "ipython3",
   "version": "3.8.3-final"
  }
 },
 "nbformat": 4,
 "nbformat_minor": 4
}